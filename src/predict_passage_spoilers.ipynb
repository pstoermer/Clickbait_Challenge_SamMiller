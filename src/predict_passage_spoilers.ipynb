{
 "cells": [
  {
   "cell_type": "code",
   "execution_count": 3,
   "metadata": {
    "collapsed": true
   },
   "outputs": [],
   "source": [
    "from utils import load_data, get_passage_spoiler, postprocess_phrase_spoiler, calculate_bleu\n",
    "\n",
    "from tqdm import tqdm\n",
    "import pandas as pd\n",
    "\n",
    "from transformers import QuestionAnsweringPipeline, AutoTokenizer, AutoModelForQuestionAnswering"
   ]
  },
  {
   "cell_type": "markdown",
   "source": [
    "# Load and Preprocess Data"
   ],
   "metadata": {
    "collapsed": false
   }
  },
  {
   "cell_type": "code",
   "execution_count": 4,
   "outputs": [],
   "source": [
    "train = load_data('../data/train.jsonl')\n",
    "val = load_data('../data/validation.jsonl')"
   ],
   "metadata": {
    "collapsed": false
   }
  },
  {
   "cell_type": "code",
   "execution_count": 5,
   "outputs": [
    {
     "name": "stdout",
     "output_type": "stream",
     "text": [
      "(1274, 4)\n"
     ]
    },
    {
     "data": {
      "text/plain": "                                             spoiler  \\\n0                how about that morning we go throw?   \n5  Apple says that if AirPods are lost or stolen,...   \n6  \"The more good games I had in them, the more I...   \n\n                                            postText  \\\n0  Wes Welker Wanted Dinner With Tom Brady, But P...   \n5  What happens if your new AirPods get lost or s...   \n6  The Reason Why Gabor Kiraly Wears THOSE Tracki...   \n\n                                    targetParagraphs     tags  \n0  It’ll be just like old times this weekend for ...  passage  \n5  One of the biggest surprise announcements at A...  passage  \n6  June 14th 2016 3.3K Shares They may look like ...  passage  ",
      "text/html": "<div>\n<style scoped>\n    .dataframe tbody tr th:only-of-type {\n        vertical-align: middle;\n    }\n\n    .dataframe tbody tr th {\n        vertical-align: top;\n    }\n\n    .dataframe thead th {\n        text-align: right;\n    }\n</style>\n<table border=\"1\" class=\"dataframe\">\n  <thead>\n    <tr style=\"text-align: right;\">\n      <th></th>\n      <th>spoiler</th>\n      <th>postText</th>\n      <th>targetParagraphs</th>\n      <th>tags</th>\n    </tr>\n  </thead>\n  <tbody>\n    <tr>\n      <th>0</th>\n      <td>how about that morning we go throw?</td>\n      <td>Wes Welker Wanted Dinner With Tom Brady, But P...</td>\n      <td>It’ll be just like old times this weekend for ...</td>\n      <td>passage</td>\n    </tr>\n    <tr>\n      <th>5</th>\n      <td>Apple says that if AirPods are lost or stolen,...</td>\n      <td>What happens if your new AirPods get lost or s...</td>\n      <td>One of the biggest surprise announcements at A...</td>\n      <td>passage</td>\n    </tr>\n    <tr>\n      <th>6</th>\n      <td>\"The more good games I had in them, the more I...</td>\n      <td>The Reason Why Gabor Kiraly Wears THOSE Tracki...</td>\n      <td>June 14th 2016 3.3K Shares They may look like ...</td>\n      <td>passage</td>\n    </tr>\n  </tbody>\n</table>\n</div>"
     },
     "execution_count": 5,
     "metadata": {},
     "output_type": "execute_result"
    }
   ],
   "source": [
    "train['targetParagraphs'] = train.targetParagraphs.apply(lambda x: ' '.join(x))\n",
    "train['postText'] = train.postText.apply(lambda x: x[0].strip())\n",
    "train['spoiler'] = train.spoiler.apply(lambda x: '\\n'.join(x))\n",
    "train['tags'] = train.tags.apply(lambda x: x[0])\n",
    "train = train[train.tags == 'passage'][['spoiler', 'postText', 'targetParagraphs', 'tags']]\n",
    "print(train.shape)\n",
    "train.head(3)"
   ],
   "metadata": {
    "collapsed": false
   }
  },
  {
   "cell_type": "code",
   "execution_count": 6,
   "outputs": [
    {
     "name": "stdout",
     "output_type": "stream",
     "text": [
      "(322, 4)\n"
     ]
    },
    {
     "data": {
      "text/plain": "                                             spoiler  \\\n0  some of the plot elements are so disturbing th...   \n4  a man who swallowed a 64GB microSD card and th...   \n7  McGonagall was appointed as Dumbledore’s assis...   \n\n                                            postText  \\\n0  Five Nights at Freddy’s Sequel Delayed for Wei...   \n4  A man swallowed a microSD card and you won't b...   \n7  You won't believe this stunning \"Harry Potter\"...   \n\n                                    targetParagraphs     tags  \n0  Five Nights at Freddy’s creator Scott Cawthon ...  passage  \n4  PetaPixel is one of my favorite blogs. The wri...  passage  \n7  From reading J.K. Rowling‘s Harry Potter saga,...  passage  ",
      "text/html": "<div>\n<style scoped>\n    .dataframe tbody tr th:only-of-type {\n        vertical-align: middle;\n    }\n\n    .dataframe tbody tr th {\n        vertical-align: top;\n    }\n\n    .dataframe thead th {\n        text-align: right;\n    }\n</style>\n<table border=\"1\" class=\"dataframe\">\n  <thead>\n    <tr style=\"text-align: right;\">\n      <th></th>\n      <th>spoiler</th>\n      <th>postText</th>\n      <th>targetParagraphs</th>\n      <th>tags</th>\n    </tr>\n  </thead>\n  <tbody>\n    <tr>\n      <th>0</th>\n      <td>some of the plot elements are so disturbing th...</td>\n      <td>Five Nights at Freddy’s Sequel Delayed for Wei...</td>\n      <td>Five Nights at Freddy’s creator Scott Cawthon ...</td>\n      <td>passage</td>\n    </tr>\n    <tr>\n      <th>4</th>\n      <td>a man who swallowed a 64GB microSD card and th...</td>\n      <td>A man swallowed a microSD card and you won't b...</td>\n      <td>PetaPixel is one of my favorite blogs. The wri...</td>\n      <td>passage</td>\n    </tr>\n    <tr>\n      <th>7</th>\n      <td>McGonagall was appointed as Dumbledore’s assis...</td>\n      <td>You won't believe this stunning \"Harry Potter\"...</td>\n      <td>From reading J.K. Rowling‘s Harry Potter saga,...</td>\n      <td>passage</td>\n    </tr>\n  </tbody>\n</table>\n</div>"
     },
     "execution_count": 6,
     "metadata": {},
     "output_type": "execute_result"
    }
   ],
   "source": [
    "val['targetParagraphs'] = val.targetParagraphs.apply(lambda x: ' '.join(x))\n",
    "val['postText'] = val.postText.apply(lambda x: x[0].strip())\n",
    "val['spoiler'] = val.spoiler.apply(lambda x: '\\n'.join(x))\n",
    "val['tags'] = val.tags.apply(lambda x: x[0])\n",
    "val = val[val.tags == 'passage'][['spoiler', 'postText', 'targetParagraphs', 'tags']]\n",
    "print(val.shape)\n",
    "val.head(3)"
   ],
   "metadata": {
    "collapsed": false
   }
  },
  {
   "cell_type": "code",
   "execution_count": 9,
   "outputs": [],
   "source": [
    "train_answers = pd.DataFrame()\n",
    "train_answers['text'] = train['spoiler']"
   ],
   "metadata": {
    "collapsed": false
   }
  },
  {
   "cell_type": "code",
   "execution_count": 10,
   "outputs": [],
   "source": [
    "val_answers = pd.DataFrame()\n",
    "val_answers['text'] = val['spoiler']"
   ],
   "metadata": {
    "collapsed": false
   }
  },
  {
   "cell_type": "code",
   "execution_count": 11,
   "outputs": [],
   "source": [
    "train_contexts = train.targetParagraphs.to_list()\n",
    "train_questions = train.postText.to_list()\n",
    "val_contexts = val.targetParagraphs.to_list()\n",
    "val_questions = val.postText.to_list()"
   ],
   "metadata": {
    "collapsed": false
   }
  },
  {
   "cell_type": "markdown",
   "source": [
    "# Load Model and Tokenizer"
   ],
   "metadata": {
    "collapsed": false
   }
  },
  {
   "cell_type": "code",
   "execution_count": 12,
   "outputs": [],
   "source": [
    "# Load the pre-trained model\n",
    "model = AutoModelForQuestionAnswering.from_pretrained(\"bert-large-uncased-whole-word-masking-finetuned-squad\")\n",
    "tokenizer = AutoTokenizer.from_pretrained(\"bert-large-uncased-whole-word-masking-finetuned-squad\", use_fast=False)"
   ],
   "metadata": {
    "collapsed": false
   }
  },
  {
   "cell_type": "markdown",
   "source": [
    "## Initialize Question Answering Pipeline"
   ],
   "metadata": {
    "collapsed": false
   }
  },
  {
   "cell_type": "code",
   "execution_count": 13,
   "outputs": [],
   "source": [
    "pipeline = QuestionAnsweringPipeline(model, tokenizer)"
   ],
   "metadata": {
    "collapsed": false
   }
  },
  {
   "cell_type": "markdown",
   "source": [
    "# Get Predictions for Passage Spoilers"
   ],
   "metadata": {
    "collapsed": false
   }
  },
  {
   "cell_type": "code",
   "execution_count": 14,
   "outputs": [
    {
     "name": "stderr",
     "output_type": "stream",
     "text": [
      "0it [00:00, ?it/s]"
     ]
    },
    {
     "ename": "AttributeError",
     "evalue": "'NumpyOps' object has no attribute 'cblas'",
     "output_type": "error",
     "traceback": [
      "\u001B[1;31m---------------------------------------------------------------------------\u001B[0m",
      "\u001B[1;31mAttributeError\u001B[0m                            Traceback (most recent call last)",
      "\u001B[1;32m<ipython-input-14-b71c5cedd60a>\u001B[0m in \u001B[0;36m<module>\u001B[1;34m\u001B[0m\n\u001B[1;32m----> 1\u001B[1;33m pred_answers = [\n\u001B[0m\u001B[0;32m      2\u001B[0m     \u001B[0mget_passage_spoiler\u001B[0m\u001B[1;33m(\u001B[0m\u001B[0mpipeline\u001B[0m\u001B[1;33m=\u001B[0m\u001B[0mpipeline\u001B[0m\u001B[1;33m,\u001B[0m \u001B[0mquestion\u001B[0m\u001B[1;33m=\u001B[0m\u001B[0mval_questions\u001B[0m\u001B[1;33m[\u001B[0m\u001B[1;36m0\u001B[0m\u001B[1;33m]\u001B[0m\u001B[1;33m,\u001B[0m \u001B[0mcontext\u001B[0m\u001B[1;33m=\u001B[0m\u001B[0mval_contexts\u001B[0m\u001B[1;33m[\u001B[0m\u001B[1;36m0\u001B[0m\u001B[1;33m]\u001B[0m\u001B[1;33m,\u001B[0m \u001B[0mmax_loops\u001B[0m\u001B[1;33m=\u001B[0m\u001B[1;36m10\u001B[0m\u001B[1;33m)\u001B[0m\u001B[1;33m\u001B[0m\u001B[1;33m\u001B[0m\u001B[0m\n\u001B[0;32m      3\u001B[0m     \u001B[1;32mfor\u001B[0m \u001B[0mq\u001B[0m\u001B[1;33m,\u001B[0m \u001B[0mc\u001B[0m \u001B[1;32min\u001B[0m \u001B[0mtqdm\u001B[0m\u001B[1;33m(\u001B[0m\u001B[0mzip\u001B[0m\u001B[1;33m(\u001B[0m\u001B[0mval_questions\u001B[0m\u001B[1;33m,\u001B[0m \u001B[0mval_contexts\u001B[0m\u001B[1;33m)\u001B[0m\u001B[1;33m)\u001B[0m\u001B[1;33m\u001B[0m\u001B[1;33m\u001B[0m\u001B[0m\n\u001B[0;32m      4\u001B[0m ]\n",
      "\u001B[1;32m<ipython-input-14-b71c5cedd60a>\u001B[0m in \u001B[0;36m<listcomp>\u001B[1;34m(.0)\u001B[0m\n\u001B[0;32m      1\u001B[0m pred_answers = [\n\u001B[1;32m----> 2\u001B[1;33m     \u001B[0mget_passage_spoiler\u001B[0m\u001B[1;33m(\u001B[0m\u001B[0mpipeline\u001B[0m\u001B[1;33m=\u001B[0m\u001B[0mpipeline\u001B[0m\u001B[1;33m,\u001B[0m \u001B[0mquestion\u001B[0m\u001B[1;33m=\u001B[0m\u001B[0mval_questions\u001B[0m\u001B[1;33m[\u001B[0m\u001B[1;36m0\u001B[0m\u001B[1;33m]\u001B[0m\u001B[1;33m,\u001B[0m \u001B[0mcontext\u001B[0m\u001B[1;33m=\u001B[0m\u001B[0mval_contexts\u001B[0m\u001B[1;33m[\u001B[0m\u001B[1;36m0\u001B[0m\u001B[1;33m]\u001B[0m\u001B[1;33m,\u001B[0m \u001B[0mmax_loops\u001B[0m\u001B[1;33m=\u001B[0m\u001B[1;36m10\u001B[0m\u001B[1;33m)\u001B[0m\u001B[1;33m\u001B[0m\u001B[1;33m\u001B[0m\u001B[0m\n\u001B[0m\u001B[0;32m      3\u001B[0m     \u001B[1;32mfor\u001B[0m \u001B[0mq\u001B[0m\u001B[1;33m,\u001B[0m \u001B[0mc\u001B[0m \u001B[1;32min\u001B[0m \u001B[0mtqdm\u001B[0m\u001B[1;33m(\u001B[0m\u001B[0mzip\u001B[0m\u001B[1;33m(\u001B[0m\u001B[0mval_questions\u001B[0m\u001B[1;33m,\u001B[0m \u001B[0mval_contexts\u001B[0m\u001B[1;33m)\u001B[0m\u001B[1;33m)\u001B[0m\u001B[1;33m\u001B[0m\u001B[1;33m\u001B[0m\u001B[0m\n\u001B[0;32m      4\u001B[0m ]\n",
      "\u001B[1;32m~\\DataspellProjects\\ds_anlp\\src\\utils.py\u001B[0m in \u001B[0;36mget_passage_spoiler\u001B[1;34m(pipeline, question, context, max_loops)\u001B[0m\n\u001B[0;32m    223\u001B[0m \u001B[1;33m\u001B[0m\u001B[0m\n\u001B[0;32m    224\u001B[0m     \u001B[0manswer\u001B[0m \u001B[1;33m=\u001B[0m \u001B[1;32mNone\u001B[0m\u001B[1;33m\u001B[0m\u001B[1;33m\u001B[0m\u001B[0m\n\u001B[1;32m--> 225\u001B[1;33m     \u001B[0mquestion\u001B[0m \u001B[1;33m=\u001B[0m \u001B[0mimprove_question\u001B[0m\u001B[1;33m(\u001B[0m\u001B[0mquestion\u001B[0m\u001B[1;33m)\u001B[0m\u001B[1;33m\u001B[0m\u001B[1;33m\u001B[0m\u001B[0m\n\u001B[0m\u001B[0;32m    226\u001B[0m     \u001B[1;32mwhile\u001B[0m \u001B[1;32mnot\u001B[0m \u001B[0manswer\u001B[0m \u001B[1;32mor\u001B[0m \u001B[0mlen\u001B[0m\u001B[1;33m(\u001B[0m\u001B[0manswer\u001B[0m\u001B[1;33m[\u001B[0m\u001B[1;34m'answer'\u001B[0m\u001B[1;33m]\u001B[0m\u001B[1;33m.\u001B[0m\u001B[0msplit\u001B[0m\u001B[1;33m(\u001B[0m\u001B[1;33m)\u001B[0m\u001B[1;33m)\u001B[0m \u001B[1;33m<\u001B[0m \u001B[1;36m5\u001B[0m \u001B[1;32mor\u001B[0m \u001B[0mmax_loops\u001B[0m \u001B[1;33m==\u001B[0m \u001B[1;36m0\u001B[0m\u001B[1;33m:\u001B[0m\u001B[1;33m\u001B[0m\u001B[1;33m\u001B[0m\u001B[0m\n\u001B[0;32m    227\u001B[0m         \u001B[0manswer\u001B[0m \u001B[1;33m=\u001B[0m \u001B[0mpipeline\u001B[0m\u001B[1;33m(\u001B[0m\u001B[0mquestion\u001B[0m\u001B[1;33m,\u001B[0m \u001B[0mcontext\u001B[0m\u001B[1;33m)\u001B[0m\u001B[1;33m\u001B[0m\u001B[1;33m\u001B[0m\u001B[0m\n",
      "\u001B[1;32m~\\DataspellProjects\\ds_anlp\\src\\utils.py\u001B[0m in \u001B[0;36mimprove_question\u001B[1;34m(question)\u001B[0m\n\u001B[0;32m    142\u001B[0m \u001B[1;33m\u001B[0m\u001B[0m\n\u001B[0;32m    143\u001B[0m     \u001B[1;31m# Tokenize\u001B[0m\u001B[1;33m\u001B[0m\u001B[1;33m\u001B[0m\u001B[1;33m\u001B[0m\u001B[0m\n\u001B[1;32m--> 144\u001B[1;33m     \u001B[0mdoc\u001B[0m \u001B[1;33m=\u001B[0m \u001B[0mnlp\u001B[0m\u001B[1;33m(\u001B[0m\u001B[0mquestion\u001B[0m\u001B[1;33m)\u001B[0m\u001B[1;33m\u001B[0m\u001B[1;33m\u001B[0m\u001B[0m\n\u001B[0m\u001B[0;32m    145\u001B[0m     \u001B[0mtokens\u001B[0m \u001B[1;33m=\u001B[0m \u001B[1;33m[\u001B[0m\u001B[0mtoken\u001B[0m\u001B[1;33m.\u001B[0m\u001B[0mtext\u001B[0m \u001B[1;32mfor\u001B[0m \u001B[0mtoken\u001B[0m \u001B[1;32min\u001B[0m \u001B[0mdoc\u001B[0m\u001B[1;33m]\u001B[0m\u001B[1;33m\u001B[0m\u001B[1;33m\u001B[0m\u001B[0m\n\u001B[0;32m    146\u001B[0m \u001B[1;33m\u001B[0m\u001B[0m\n",
      "\u001B[1;32m~\\anaconda3\\lib\\site-packages\\spacy\\language.py\u001B[0m in \u001B[0;36m__call__\u001B[1;34m(self, text, disable, component_cfg)\u001B[0m\n\u001B[0;32m   1023\u001B[0m                 \u001B[1;32mraise\u001B[0m \u001B[0mValueError\u001B[0m\u001B[1;33m(\u001B[0m\u001B[0mErrors\u001B[0m\u001B[1;33m.\u001B[0m\u001B[0mE109\u001B[0m\u001B[1;33m.\u001B[0m\u001B[0mformat\u001B[0m\u001B[1;33m(\u001B[0m\u001B[0mname\u001B[0m\u001B[1;33m=\u001B[0m\u001B[0mname\u001B[0m\u001B[1;33m)\u001B[0m\u001B[1;33m)\u001B[0m \u001B[1;32mfrom\u001B[0m \u001B[0me\u001B[0m\u001B[1;33m\u001B[0m\u001B[1;33m\u001B[0m\u001B[0m\n\u001B[0;32m   1024\u001B[0m             \u001B[1;32mexcept\u001B[0m \u001B[0mException\u001B[0m \u001B[1;32mas\u001B[0m \u001B[0me\u001B[0m\u001B[1;33m:\u001B[0m\u001B[1;33m\u001B[0m\u001B[1;33m\u001B[0m\u001B[0m\n\u001B[1;32m-> 1025\u001B[1;33m                 \u001B[0merror_handler\u001B[0m\u001B[1;33m(\u001B[0m\u001B[0mname\u001B[0m\u001B[1;33m,\u001B[0m \u001B[0mproc\u001B[0m\u001B[1;33m,\u001B[0m \u001B[1;33m[\u001B[0m\u001B[0mdoc\u001B[0m\u001B[1;33m]\u001B[0m\u001B[1;33m,\u001B[0m \u001B[0me\u001B[0m\u001B[1;33m)\u001B[0m\u001B[1;33m\u001B[0m\u001B[1;33m\u001B[0m\u001B[0m\n\u001B[0m\u001B[0;32m   1026\u001B[0m             \u001B[1;32mif\u001B[0m \u001B[0mdoc\u001B[0m \u001B[1;32mis\u001B[0m \u001B[1;32mNone\u001B[0m\u001B[1;33m:\u001B[0m\u001B[1;33m\u001B[0m\u001B[1;33m\u001B[0m\u001B[0m\n\u001B[0;32m   1027\u001B[0m                 \u001B[1;32mraise\u001B[0m \u001B[0mValueError\u001B[0m\u001B[1;33m(\u001B[0m\u001B[0mErrors\u001B[0m\u001B[1;33m.\u001B[0m\u001B[0mE005\u001B[0m\u001B[1;33m.\u001B[0m\u001B[0mformat\u001B[0m\u001B[1;33m(\u001B[0m\u001B[0mname\u001B[0m\u001B[1;33m=\u001B[0m\u001B[0mname\u001B[0m\u001B[1;33m)\u001B[0m\u001B[1;33m)\u001B[0m\u001B[1;33m\u001B[0m\u001B[1;33m\u001B[0m\u001B[0m\n",
      "\u001B[1;32m~\\anaconda3\\lib\\site-packages\\spacy\\util.py\u001B[0m in \u001B[0;36mraise_error\u001B[1;34m(proc_name, proc, docs, e)\u001B[0m\n\u001B[0;32m   1656\u001B[0m \u001B[1;33m\u001B[0m\u001B[0m\n\u001B[0;32m   1657\u001B[0m \u001B[1;32mdef\u001B[0m \u001B[0mraise_error\u001B[0m\u001B[1;33m(\u001B[0m\u001B[0mproc_name\u001B[0m\u001B[1;33m,\u001B[0m \u001B[0mproc\u001B[0m\u001B[1;33m,\u001B[0m \u001B[0mdocs\u001B[0m\u001B[1;33m,\u001B[0m \u001B[0me\u001B[0m\u001B[1;33m)\u001B[0m\u001B[1;33m:\u001B[0m\u001B[1;33m\u001B[0m\u001B[1;33m\u001B[0m\u001B[0m\n\u001B[1;32m-> 1658\u001B[1;33m     \u001B[1;32mraise\u001B[0m \u001B[0me\u001B[0m\u001B[1;33m\u001B[0m\u001B[1;33m\u001B[0m\u001B[0m\n\u001B[0m\u001B[0;32m   1659\u001B[0m \u001B[1;33m\u001B[0m\u001B[0m\n\u001B[0;32m   1660\u001B[0m \u001B[1;33m\u001B[0m\u001B[0m\n",
      "\u001B[1;32m~\\anaconda3\\lib\\site-packages\\spacy\\language.py\u001B[0m in \u001B[0;36m__call__\u001B[1;34m(self, text, disable, component_cfg)\u001B[0m\n\u001B[0;32m   1018\u001B[0m                 \u001B[0merror_handler\u001B[0m \u001B[1;33m=\u001B[0m \u001B[0mproc\u001B[0m\u001B[1;33m.\u001B[0m\u001B[0mget_error_handler\u001B[0m\u001B[1;33m(\u001B[0m\u001B[1;33m)\u001B[0m\u001B[1;33m\u001B[0m\u001B[1;33m\u001B[0m\u001B[0m\n\u001B[0;32m   1019\u001B[0m             \u001B[1;32mtry\u001B[0m\u001B[1;33m:\u001B[0m\u001B[1;33m\u001B[0m\u001B[1;33m\u001B[0m\u001B[0m\n\u001B[1;32m-> 1020\u001B[1;33m                 \u001B[0mdoc\u001B[0m \u001B[1;33m=\u001B[0m \u001B[0mproc\u001B[0m\u001B[1;33m(\u001B[0m\u001B[0mdoc\u001B[0m\u001B[1;33m,\u001B[0m \u001B[1;33m**\u001B[0m\u001B[0mcomponent_cfg\u001B[0m\u001B[1;33m.\u001B[0m\u001B[0mget\u001B[0m\u001B[1;33m(\u001B[0m\u001B[0mname\u001B[0m\u001B[1;33m,\u001B[0m \u001B[1;33m{\u001B[0m\u001B[1;33m}\u001B[0m\u001B[1;33m)\u001B[0m\u001B[1;33m)\u001B[0m  \u001B[1;31m# type: ignore[call-arg]\u001B[0m\u001B[1;33m\u001B[0m\u001B[1;33m\u001B[0m\u001B[0m\n\u001B[0m\u001B[0;32m   1021\u001B[0m             \u001B[1;32mexcept\u001B[0m \u001B[0mKeyError\u001B[0m \u001B[1;32mas\u001B[0m \u001B[0me\u001B[0m\u001B[1;33m:\u001B[0m\u001B[1;33m\u001B[0m\u001B[1;33m\u001B[0m\u001B[0m\n\u001B[0;32m   1022\u001B[0m                 \u001B[1;31m# This typically happens if a component is not initialized\u001B[0m\u001B[1;33m\u001B[0m\u001B[1;33m\u001B[0m\u001B[1;33m\u001B[0m\u001B[0m\n",
      "\u001B[1;32m~\\anaconda3\\lib\\site-packages\\spacy\\pipeline\\trainable_pipe.pyx\u001B[0m in \u001B[0;36mspacy.pipeline.trainable_pipe.TrainablePipe.__call__\u001B[1;34m()\u001B[0m\n",
      "\u001B[1;32m~\\anaconda3\\lib\\site-packages\\spacy\\util.py\u001B[0m in \u001B[0;36mraise_error\u001B[1;34m(proc_name, proc, docs, e)\u001B[0m\n\u001B[0;32m   1656\u001B[0m \u001B[1;33m\u001B[0m\u001B[0m\n\u001B[0;32m   1657\u001B[0m \u001B[1;32mdef\u001B[0m \u001B[0mraise_error\u001B[0m\u001B[1;33m(\u001B[0m\u001B[0mproc_name\u001B[0m\u001B[1;33m,\u001B[0m \u001B[0mproc\u001B[0m\u001B[1;33m,\u001B[0m \u001B[0mdocs\u001B[0m\u001B[1;33m,\u001B[0m \u001B[0me\u001B[0m\u001B[1;33m)\u001B[0m\u001B[1;33m:\u001B[0m\u001B[1;33m\u001B[0m\u001B[1;33m\u001B[0m\u001B[0m\n\u001B[1;32m-> 1658\u001B[1;33m     \u001B[1;32mraise\u001B[0m \u001B[0me\u001B[0m\u001B[1;33m\u001B[0m\u001B[1;33m\u001B[0m\u001B[0m\n\u001B[0m\u001B[0;32m   1659\u001B[0m \u001B[1;33m\u001B[0m\u001B[0m\n\u001B[0;32m   1660\u001B[0m \u001B[1;33m\u001B[0m\u001B[0m\n",
      "\u001B[1;32m~\\anaconda3\\lib\\site-packages\\spacy\\pipeline\\trainable_pipe.pyx\u001B[0m in \u001B[0;36mspacy.pipeline.trainable_pipe.TrainablePipe.__call__\u001B[1;34m()\u001B[0m\n",
      "\u001B[1;32m~\\anaconda3\\lib\\site-packages\\spacy\\pipeline\\transition_parser.pyx\u001B[0m in \u001B[0;36mspacy.pipeline.transition_parser.Parser.predict\u001B[1;34m()\u001B[0m\n",
      "\u001B[1;32m~\\anaconda3\\lib\\site-packages\\spacy\\pipeline\\transition_parser.pyx\u001B[0m in \u001B[0;36mspacy.pipeline.transition_parser.Parser.greedy_parse\u001B[1;34m()\u001B[0m\n",
      "\u001B[1;31mAttributeError\u001B[0m: 'NumpyOps' object has no attribute 'cblas'"
     ]
    }
   ],
   "source": [
    "pred_answers = [\n",
    "    get_passage_spoiler(pipeline=pipeline, question=val_questions[0], context=val_contexts[0], max_loops=10)\n",
    "    for q, c in tqdm(zip(val_questions, val_contexts))\n",
    "]"
   ],
   "metadata": {
    "collapsed": false
   }
  },
  {
   "cell_type": "markdown",
   "source": [
    "# Evaluate using BLEU Score"
   ],
   "metadata": {
    "collapsed": false
   }
  },
  {
   "cell_type": "code",
   "execution_count": null,
   "outputs": [],
   "source": [
    "val_answers_text = [a['text'] for a in val_answers]\n",
    "pred_answers_text = [a['answer'] for a in pred_answers]"
   ],
   "metadata": {
    "collapsed": false
   }
  },
  {
   "cell_type": "code",
   "execution_count": null,
   "outputs": [],
   "source": [
    "calculate_bleu(val_answers_text, pred_answers_text)"
   ],
   "metadata": {
    "collapsed": false
   }
  }
 ],
 "metadata": {
  "kernelspec": {
   "display_name": "Python 3",
   "language": "python",
   "name": "python3"
  },
  "language_info": {
   "codemirror_mode": {
    "name": "ipython",
    "version": 2
   },
   "file_extension": ".py",
   "mimetype": "text/x-python",
   "name": "python",
   "nbconvert_exporter": "python",
   "pygments_lexer": "ipython2",
   "version": "2.7.6"
  }
 },
 "nbformat": 4,
 "nbformat_minor": 0
}
